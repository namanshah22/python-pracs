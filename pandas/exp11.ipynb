{
 "cells": [
  {
   "cell_type": "code",
   "execution_count": 1,
   "metadata": {},
   "outputs": [],
   "source": [
    "import pandas as pd"
   ]
  },
  {
   "cell_type": "code",
   "execution_count": 2,
   "metadata": {},
   "outputs": [
    {
     "name": "stdout",
     "output_type": "stream",
     "text": [
      "0    3\n",
      "1    8\n",
      "2    4\n",
      "dtype: int64\n"
     ]
    }
   ],
   "source": [
    "a=[3,8,4]\n",
    "var=pd.Series(a)\n",
    "print(var)"
   ]
  },
  {
   "cell_type": "code",
   "execution_count": 4,
   "metadata": {},
   "outputs": [
    {
     "name": "stdout",
     "output_type": "stream",
     "text": [
      "X    3\n",
      "Y    8\n",
      "Z    4\n",
      "dtype: int64\n"
     ]
    }
   ],
   "source": [
    "a=[3,8,4]\n",
    "var=pd.Series(a,index=[\"X\",\"Y\",\"Z\"])\n",
    "print(var)"
   ]
  },
  {
   "cell_type": "code",
   "execution_count": 5,
   "metadata": {},
   "outputs": [
    {
     "name": "stdout",
     "output_type": "stream",
     "text": [
      "day1    420\n",
      "day2    380\n",
      "day3    390\n",
      "dtype: int64\n"
     ]
    }
   ],
   "source": [
    "calories = {\"day1\": 420, \"day2\": 380, \"day3\": 390}\n",
    "myvar = pd.Series(calories)\n",
    "print(myvar)"
   ]
  },
  {
   "cell_type": "code",
   "execution_count": 6,
   "metadata": {},
   "outputs": [
    {
     "name": "stdout",
     "output_type": "stream",
     "text": [
      "day1    420\n",
      "day2    380\n",
      "day3    390\n",
      "dtype: int64\n",
      "calories    420\n",
      "duration     50\n",
      "Name: 0, dtype: int64\n",
      "   calories  duration\n",
      "0       420        50\n",
      "1       380        40\n"
     ]
    }
   ],
   "source": [
    "data = {\n",
    "  \"calories\": [420, 380, 390],\n",
    "  \"duration\": [50, 40, 45]\n",
    "}\n",
    "df = pd.DataFrame(data)\n",
    "\n",
    "print(myvar)\n",
    "#refer to the row index:\n",
    "print(df.loc[0])\n",
    "#use a list of indexes:\n",
    "print(df.loc[[0, 1]])"
   ]
  },
  {
   "cell_type": "code",
   "execution_count": 7,
   "metadata": {},
   "outputs": [
    {
     "name": "stdout",
     "output_type": "stream",
     "text": [
      "      calories  duration\n",
      "day1       420        50\n",
      "day2       380        40\n",
      "day3       390        45\n",
      "calories    380\n",
      "duration     40\n",
      "Name: day2, dtype: int64\n"
     ]
    }
   ],
   "source": [
    "data = {\n",
    "  \"calories\": [420, 380, 390],\n",
    "  \"duration\": [50, 40, 45]\n",
    "}\n",
    "df = pd.DataFrame(data, index = [\"day1\", \"day2\", \"day3\"])\n",
    "print(df) \n",
    "#refer to the named index\n",
    "print(df.loc[\"day2\"])"
   ]
  },
  {
   "cell_type": "code",
   "execution_count": 10,
   "metadata": {},
   "outputs": [
    {
     "name": "stdout",
     "output_type": "stream",
     "text": [
      "     CustomerID   Genre  Age  Annual Income (k$)  Spending Score (1-100)\n",
      "0             1    Male   19                  15                      39\n",
      "1             2    Male   21                  15                      81\n",
      "2             3  Female   20                  16                       6\n",
      "3             4  Female   23                  16                      77\n",
      "4             5  Female   31                  17                      40\n",
      "..          ...     ...  ...                 ...                     ...\n",
      "195         196  Female   35                 120                      79\n",
      "196         197  Female   45                 126                      28\n",
      "197         198    Male   32                 126                      74\n",
      "198         199    Male   32                 137                      18\n",
      "199         200    Male   30                 137                      83\n",
      "\n",
      "[200 rows x 5 columns]\n"
     ]
    }
   ],
   "source": [
    "import pandas as pd\n",
    "df = pd.read_csv('Mall_Customers (1).csv')\n",
    "print(df)"
   ]
  },
  {
   "cell_type": "code",
   "execution_count": 11,
   "metadata": {},
   "outputs": [
    {
     "name": "stdout",
     "output_type": "stream",
     "text": [
      "   CustomerID   Genre  Age  Annual Income (k$)  Spending Score (1-100)\n",
      "0           1    Male   19                  15                      39\n",
      "1           2    Male   21                  15                      81\n",
      "2           3  Female   20                  16                       6\n",
      "3           4  Female   23                  16                      77\n",
      "4           5  Female   31                  17                      40\n",
      "     CustomerID   Genre  Age  Annual Income (k$)  Spending Score (1-100)\n",
      "195         196  Female   35                 120                      79\n",
      "196         197  Female   45                 126                      28\n",
      "197         198    Male   32                 126                      74\n",
      "198         199    Male   32                 137                      18\n",
      "199         200    Male   30                 137                      83\n",
      "<class 'pandas.core.frame.DataFrame'>\n",
      "RangeIndex: 200 entries, 0 to 199\n",
      "Data columns (total 5 columns):\n",
      " #   Column                  Non-Null Count  Dtype \n",
      "---  ------                  --------------  ----- \n",
      " 0   CustomerID              200 non-null    int64 \n",
      " 1   Genre                   200 non-null    object\n",
      " 2   Age                     200 non-null    int64 \n",
      " 3   Annual Income (k$)      200 non-null    int64 \n",
      " 4   Spending Score (1-100)  200 non-null    int64 \n",
      "dtypes: int64(4), object(1)\n",
      "memory usage: 7.9+ KB\n",
      "None\n"
     ]
    }
   ],
   "source": [
    "print(df.head())\n",
    "print(df.tail())\n",
    "print(df.info())"
   ]
  },
  {
   "cell_type": "code",
   "execution_count": 12,
   "metadata": {},
   "outputs": [
    {
     "name": "stdout",
     "output_type": "stream",
     "text": [
      "     CustomerID   Genre  Age  Annual Income (k$)  Spending Score (1-100)\n",
      "0             1    Male   19                  15                      39\n",
      "1             2    Male   21                  15                      81\n",
      "2             3  Female   20                  16                       6\n",
      "3             4  Female   23                  16                      77\n",
      "4             5  Female   31                  17                      40\n",
      "5             6  Female   22                  17                      76\n",
      "6             7  Female   35                  18                       6\n",
      "7             8  Female   23                  18                      94\n",
      "8             9    Male   64                  19                       3\n",
      "9            10  Female   30                  19                      72\n",
      "10           11    Male   67                  19                      14\n",
      "11           12  Female   35                  19                      99\n",
      "12           13  Female   58                  20                      15\n",
      "13           14  Female   24                  20                      77\n",
      "14           15    Male   37                  20                      13\n",
      "15           16    Male   22                  20                      79\n",
      "16           17  Female   35                  21                      35\n",
      "17           18    Male   20                  21                      66\n",
      "18           19    Male   52                  23                      29\n",
      "19           20  Female   35                  23                      98\n",
      "20           21    Male   35                  24                      35\n",
      "21           22    Male   25                  24                      73\n",
      "22           23  Female   46                  25                       5\n",
      "23           24    Male   31                  25                      73\n",
      "24           25  Female   54                  28                      14\n",
      "25           26    Male   29                  28                      82\n",
      "26           27  Female   45                  28                      32\n",
      "27           28    Male   35                  28                      61\n",
      "28           29  Female   40                  29                      31\n",
      "29           30  Female   23                  29                      87\n",
      "30           31    Male   60                  30                       4\n",
      "31           32  Female   21                  30                      73\n",
      "32           33    Male   53                  33                       4\n",
      "33           34    Male   18                  33                      92\n",
      "34           35  Female   49                  33                      14\n",
      "35           36  Female   21                  33                      81\n",
      "36           37  Female   42                  34                      17\n",
      "37           38  Female   30                  34                      73\n",
      "38           39  Female   36                  37                      26\n",
      "39           40  Female   20                  37                      75\n",
      "40           41  Female   65                  38                      35\n",
      "41           42    Male   24                  38                      92\n",
      "42           43    Male   48                  39                      36\n",
      "43           44  Female   31                  39                      61\n",
      "44           45  Female   49                  39                      28\n",
      "45           46  Female   24                  39                      65\n",
      "46           47  Female   50                  40                      55\n",
      "47           48  Female   27                  40                      47\n",
      "48           49  Female   29                  40                      42\n",
      "49           50  Female   31                  40                      42\n",
      "50           51  Female   49                  42                      52\n",
      "51           52    Male   33                  42                      60\n",
      "52           53  Female   31                  43                      54\n",
      "53           54    Male   59                  43                      60\n",
      "54           55  Female   50                  43                      45\n",
      "55           56    Male   47                  43                      41\n",
      "56           57  Female   51                  44                      50\n",
      "57           58    Male   69                  44                      46\n",
      "58           59  Female   27                  46                      51\n",
      "59           60    Male   53                  46                      46\n",
      "60           61    Male   70                  46                      56\n",
      "61           62    Male   19                  46                      55\n",
      "62           63  Female   67                  47                      52\n",
      "63           64  Female   54                  47                      59\n",
      "64           65    Male   63                  48                      51\n",
      "65           66    Male   18                  48                      59\n",
      "66           67  Female   43                  48                      50\n",
      "67           68  Female   68                  48                      48\n",
      "68           69    Male   19                  48                      59\n",
      "69           70  Female   32                  48                      47\n",
      "70           71    Male   70                  49                      55\n",
      "71           72  Female   47                  49                      42\n",
      "72           73  Female   60                  50                      49\n",
      "73           74  Female   60                  50                      56\n",
      "74           75    Male   59                  54                      47\n",
      "75           76    Male   26                  54                      54\n",
      "76           77  Female   45                  54                      53\n",
      "77           78    Male   40                  54                      48\n",
      "78           79  Female   23                  54                      52\n",
      "79           80  Female   49                  54                      42\n",
      "80           81    Male   57                  54                      51\n",
      "81           82    Male   38                  54                      55\n",
      "82           83    Male   67                  54                      41\n",
      "83           84  Female   46                  54                      44\n",
      "84           85  Female   21                  54                      57\n",
      "85           86    Male   48                  54                      46\n",
      "86           87  Female   55                  57                      58\n",
      "87           88  Female   22                  57                      55\n",
      "88           89  Female   34                  58                      60\n",
      "89           90  Female   50                  58                      46\n",
      "90           91  Female   68                  59                      55\n",
      "91           92    Male   18                  59                      41\n",
      "92           93    Male   48                  60                      49\n",
      "93           94  Female   40                  60                      40\n",
      "94           95  Female   32                  60                      42\n",
      "95           96    Male   24                  60                      52\n",
      "96           97  Female   47                  60                      47\n",
      "97           98  Female   27                  60                      50\n",
      "98           99    Male   48                  61                      42\n",
      "99          100    Male   20                  61                      49\n",
      "100         101  Female   23                  62                      41\n",
      "101         102  Female   49                  62                      48\n",
      "102         103    Male   67                  62                      59\n",
      "103         104    Male   26                  62                      55\n",
      "104         105    Male   49                  62                      56\n",
      "105         106  Female   21                  62                      42\n",
      "106         107  Female   66                  63                      50\n",
      "107         108    Male   54                  63                      46\n",
      "108         109    Male   68                  63                      43\n",
      "109         110    Male   66                  63                      48\n",
      "110         111    Male   65                  63                      52\n",
      "111         112  Female   19                  63                      54\n",
      "112         113  Female   38                  64                      42\n",
      "113         114    Male   19                  64                      46\n",
      "114         115  Female   18                  65                      48\n",
      "115         116  Female   19                  65                      50\n",
      "116         117  Female   63                  65                      43\n",
      "117         118  Female   49                  65                      59\n",
      "118         119  Female   51                  67                      43\n",
      "119         120  Female   50                  67                      57\n",
      "120         121    Male   27                  67                      56\n",
      "121         122  Female   38                  67                      40\n",
      "122         123  Female   40                  69                      58\n",
      "123         124    Male   39                  69                      91\n",
      "124         125  Female   23                  70                      29\n",
      "125         126  Female   31                  70                      77\n",
      "126         127    Male   43                  71                      35\n",
      "127         128    Male   40                  71                      95\n",
      "128         129    Male   59                  71                      11\n",
      "129         130    Male   38                  71                      75\n",
      "130         131    Male   47                  71                       9\n",
      "131         132    Male   39                  71                      75\n",
      "132         133  Female   25                  72                      34\n",
      "133         134  Female   31                  72                      71\n",
      "134         135    Male   20                  73                       5\n",
      "135         136  Female   29                  73                      88\n",
      "136         137  Female   44                  73                       7\n",
      "137         138    Male   32                  73                      73\n",
      "138         139    Male   19                  74                      10\n",
      "139         140  Female   35                  74                      72\n",
      "140         141  Female   57                  75                       5\n",
      "141         142    Male   32                  75                      93\n",
      "142         143  Female   28                  76                      40\n",
      "143         144  Female   32                  76                      87\n",
      "144         145    Male   25                  77                      12\n",
      "145         146    Male   28                  77                      97\n",
      "146         147    Male   48                  77                      36\n",
      "147         148  Female   32                  77                      74\n",
      "148         149  Female   34                  78                      22\n",
      "149         150    Male   34                  78                      90\n",
      "150         151    Male   43                  78                      17\n",
      "151         152    Male   39                  78                      88\n",
      "152         153  Female   44                  78                      20\n",
      "153         154  Female   38                  78                      76\n",
      "154         155  Female   47                  78                      16\n",
      "155         156  Female   27                  78                      89\n",
      "156         157    Male   37                  78                       1\n",
      "157         158  Female   30                  78                      78\n",
      "158         159    Male   34                  78                       1\n",
      "159         160  Female   30                  78                      73\n",
      "160         161  Female   56                  79                      35\n",
      "161         162  Female   29                  79                      83\n",
      "162         163    Male   19                  81                       5\n",
      "163         164  Female   31                  81                      93\n",
      "164         165    Male   50                  85                      26\n",
      "165         166  Female   36                  85                      75\n",
      "166         167    Male   42                  86                      20\n",
      "167         168  Female   33                  86                      95\n",
      "168         169  Female   36                  87                      27\n",
      "169         170    Male   32                  87                      63\n",
      "170         171    Male   40                  87                      13\n",
      "171         172    Male   28                  87                      75\n",
      "172         173    Male   36                  87                      10\n",
      "173         174    Male   36                  87                      92\n",
      "174         175  Female   52                  88                      13\n",
      "175         176  Female   30                  88                      86\n",
      "176         177    Male   58                  88                      15\n",
      "177         178    Male   27                  88                      69\n",
      "178         179    Male   59                  93                      14\n",
      "179         180    Male   35                  93                      90\n",
      "180         181  Female   37                  97                      32\n",
      "181         182  Female   32                  97                      86\n",
      "182         183    Male   46                  98                      15\n",
      "183         184  Female   29                  98                      88\n",
      "184         185  Female   41                  99                      39\n",
      "185         186    Male   30                  99                      97\n",
      "186         187  Female   54                 101                      24\n",
      "187         188    Male   28                 101                      68\n",
      "188         189  Female   41                 103                      17\n",
      "189         190  Female   36                 103                      85\n",
      "190         191  Female   34                 103                      23\n",
      "191         192  Female   32                 103                      69\n",
      "192         193    Male   33                 113                       8\n",
      "193         194  Female   38                 113                      91\n",
      "194         195  Female   47                 120                      16\n",
      "195         196  Female   35                 120                      79\n",
      "196         197  Female   45                 126                      28\n",
      "197         198    Male   32                 126                      74\n",
      "198         199    Male   32                 137                      18\n",
      "199         200    Male   30                 137                      83\n",
      "     CustomerID   Genre  Age  Annual Income (k$)  Spending Score (1-100)\n",
      "0             1    Male   19                  15                      39\n",
      "1             2    Male   21                  15                      81\n",
      "2             3  Female   20                  16                       6\n",
      "3             4  Female   23                  16                      77\n",
      "4             5  Female   31                  17                      40\n",
      "5             6  Female   22                  17                      76\n",
      "6             7  Female   35                  18                       6\n",
      "7             8  Female   23                  18                      94\n",
      "8             9    Male   64                  19                       3\n",
      "9            10  Female   30                  19                      72\n",
      "10           11    Male   67                  19                      14\n",
      "11           12  Female   35                  19                      99\n",
      "12           13  Female   58                  20                      15\n",
      "13           14  Female   24                  20                      77\n",
      "14           15    Male   37                  20                      13\n",
      "15           16    Male   22                  20                      79\n",
      "16           17  Female   35                  21                      35\n",
      "17           18    Male   20                  21                      66\n",
      "18           19    Male   52                  23                      29\n",
      "19           20  Female   35                  23                      98\n",
      "20           21    Male   35                  24                      35\n",
      "21           22    Male   25                  24                      73\n",
      "22           23  Female   46                  25                       5\n",
      "23           24    Male   31                  25                      73\n",
      "24           25  Female   54                  28                      14\n",
      "25           26    Male   29                  28                      82\n",
      "26           27  Female   45                  28                      32\n",
      "27           28    Male   35                  28                      61\n",
      "28           29  Female   40                  29                      31\n",
      "29           30  Female   23                  29                      87\n",
      "30           31    Male   60                  30                       4\n",
      "31           32  Female   21                  30                      73\n",
      "32           33    Male   53                  33                       4\n",
      "33           34    Male   18                  33                      92\n",
      "34           35  Female   49                  33                      14\n",
      "35           36  Female   21                  33                      81\n",
      "36           37  Female   42                  34                      17\n",
      "37           38  Female   30                  34                      73\n",
      "38           39  Female   36                  37                      26\n",
      "39           40  Female   20                  37                      75\n",
      "40           41  Female   65                  38                      35\n",
      "41           42    Male   24                  38                      92\n",
      "42           43    Male   48                  39                      36\n",
      "43           44  Female   31                  39                      61\n",
      "44           45  Female   49                  39                      28\n",
      "45           46  Female   24                  39                      65\n",
      "46           47  Female   50                  40                      55\n",
      "47           48  Female   27                  40                      47\n",
      "48           49  Female   29                  40                      42\n",
      "49           50  Female   31                  40                      42\n",
      "50           51  Female   49                  42                      52\n",
      "51           52    Male   33                  42                      60\n",
      "52           53  Female   31                  43                      54\n",
      "53           54    Male   59                  43                      60\n",
      "54           55  Female   50                  43                      45\n",
      "55           56    Male   47                  43                      41\n",
      "56           57  Female   51                  44                      50\n",
      "57           58    Male   69                  44                      46\n",
      "58           59  Female   27                  46                      51\n",
      "59           60    Male   53                  46                      46\n",
      "60           61    Male   70                  46                      56\n",
      "61           62    Male   19                  46                      55\n",
      "62           63  Female   67                  47                      52\n",
      "63           64  Female   54                  47                      59\n",
      "64           65    Male   63                  48                      51\n",
      "65           66    Male   18                  48                      59\n",
      "66           67  Female   43                  48                      50\n",
      "67           68  Female   68                  48                      48\n",
      "68           69    Male   19                  48                      59\n",
      "69           70  Female   32                  48                      47\n",
      "70           71    Male   70                  49                      55\n",
      "71           72  Female   47                  49                      42\n",
      "72           73  Female   60                  50                      49\n",
      "73           74  Female   60                  50                      56\n",
      "74           75    Male   59                  54                      47\n",
      "75           76    Male   26                  54                      54\n",
      "76           77  Female   45                  54                      53\n",
      "77           78    Male   40                  54                      48\n",
      "78           79  Female   23                  54                      52\n",
      "79           80  Female   49                  54                      42\n",
      "80           81    Male   57                  54                      51\n",
      "81           82    Male   38                  54                      55\n",
      "82           83    Male   67                  54                      41\n",
      "83           84  Female   46                  54                      44\n",
      "84           85  Female   21                  54                      57\n",
      "85           86    Male   48                  54                      46\n",
      "86           87  Female   55                  57                      58\n",
      "87           88  Female   22                  57                      55\n",
      "88           89  Female   34                  58                      60\n",
      "89           90  Female   50                  58                      46\n",
      "90           91  Female   68                  59                      55\n",
      "91           92    Male   18                  59                      41\n",
      "92           93    Male   48                  60                      49\n",
      "93           94  Female   40                  60                      40\n",
      "94           95  Female   32                  60                      42\n",
      "95           96    Male   24                  60                      52\n",
      "96           97  Female   47                  60                      47\n",
      "97           98  Female   27                  60                      50\n",
      "98           99    Male   48                  61                      42\n",
      "99          100    Male   20                  61                      49\n",
      "100         101  Female   23                  62                      41\n",
      "101         102  Female   49                  62                      48\n",
      "102         103    Male   67                  62                      59\n",
      "103         104    Male   26                  62                      55\n",
      "104         105    Male   49                  62                      56\n",
      "105         106  Female   21                  62                      42\n",
      "106         107  Female   66                  63                      50\n",
      "107         108    Male   54                  63                      46\n",
      "108         109    Male   68                  63                      43\n",
      "109         110    Male   66                  63                      48\n",
      "110         111    Male   65                  63                      52\n",
      "111         112  Female   19                  63                      54\n",
      "112         113  Female   38                  64                      42\n",
      "113         114    Male   19                  64                      46\n",
      "114         115  Female   18                  65                      48\n",
      "115         116  Female   19                  65                      50\n",
      "116         117  Female   63                  65                      43\n",
      "117         118  Female   49                  65                      59\n",
      "118         119  Female   51                  67                      43\n",
      "119         120  Female   50                  67                      57\n",
      "120         121    Male   27                  67                      56\n",
      "121         122  Female   38                  67                      40\n",
      "122         123  Female   40                  69                      58\n",
      "123         124    Male   39                  69                      91\n",
      "124         125  Female   23                  70                      29\n",
      "125         126  Female   31                  70                      77\n",
      "126         127    Male   43                  71                      35\n",
      "127         128    Male   40                  71                      95\n",
      "128         129    Male   59                  71                      11\n",
      "129         130    Male   38                  71                      75\n",
      "130         131    Male   47                  71                       9\n",
      "131         132    Male   39                  71                      75\n",
      "132         133  Female   25                  72                      34\n",
      "133         134  Female   31                  72                      71\n",
      "134         135    Male   20                  73                       5\n",
      "135         136  Female   29                  73                      88\n",
      "136         137  Female   44                  73                       7\n",
      "137         138    Male   32                  73                      73\n",
      "138         139    Male   19                  74                      10\n",
      "139         140  Female   35                  74                      72\n",
      "140         141  Female   57                  75                       5\n",
      "141         142    Male   32                  75                      93\n",
      "142         143  Female   28                  76                      40\n",
      "143         144  Female   32                  76                      87\n",
      "144         145    Male   25                  77                      12\n",
      "145         146    Male   28                  77                      97\n",
      "146         147    Male   48                  77                      36\n",
      "147         148  Female   32                  77                      74\n",
      "148         149  Female   34                  78                      22\n",
      "149         150    Male   34                  78                      90\n",
      "150         151    Male   43                  78                      17\n",
      "151         152    Male   39                  78                      88\n",
      "152         153  Female   44                  78                      20\n",
      "153         154  Female   38                  78                      76\n",
      "154         155  Female   47                  78                      16\n",
      "155         156  Female   27                  78                      89\n",
      "156         157    Male   37                  78                       1\n",
      "157         158  Female   30                  78                      78\n",
      "158         159    Male   34                  78                       1\n",
      "159         160  Female   30                  78                      73\n",
      "160         161  Female   56                  79                      35\n",
      "161         162  Female   29                  79                      83\n",
      "162         163    Male   19                  81                       5\n",
      "163         164  Female   31                  81                      93\n",
      "164         165    Male   50                  85                      26\n",
      "165         166  Female   36                  85                      75\n",
      "166         167    Male   42                  86                      20\n",
      "167         168  Female   33                  86                      95\n",
      "168         169  Female   36                  87                      27\n",
      "169         170    Male   32                  87                      63\n",
      "170         171    Male   40                  87                      13\n",
      "171         172    Male   28                  87                      75\n",
      "172         173    Male   36                  87                      10\n",
      "173         174    Male   36                  87                      92\n",
      "174         175  Female   52                  88                      13\n",
      "175         176  Female   30                  88                      86\n",
      "176         177    Male   58                  88                      15\n",
      "177         178    Male   27                  88                      69\n",
      "178         179    Male   59                  93                      14\n",
      "179         180    Male   35                  93                      90\n",
      "180         181  Female   37                  97                      32\n",
      "181         182  Female   32                  97                      86\n",
      "182         183    Male   46                  98                      15\n",
      "183         184  Female   29                  98                      88\n",
      "184         185  Female   41                  99                      39\n",
      "185         186    Male   30                  99                      97\n",
      "186         187  Female   54                 101                      24\n",
      "187         188    Male   28                 101                      68\n",
      "188         189  Female   41                 103                      17\n",
      "189         190  Female   36                 103                      85\n",
      "190         191  Female   34                 103                      23\n",
      "191         192  Female   32                 103                      69\n",
      "192         193    Male   33                 113                       8\n",
      "193         194  Female   38                 113                      91\n",
      "194         195  Female   47                 120                      16\n",
      "195         196  Female   35                 120                      79\n",
      "196         197  Female   45                 126                      28\n",
      "197         198    Male   32                 126                      74\n",
      "198         199    Male   32                 137                      18\n",
      "199         200    Male   30                 137                      83\n"
     ]
    }
   ],
   "source": [
    "new_df = df.dropna(subset=[\"Annual Income (k$)\"])\n",
    "print(new_df.to_string())\n",
    "# Removing null values\n",
    "new_df = df.dropna()\n",
    "print(new_df.to_string())"
   ]
  },
  {
   "cell_type": "code",
   "execution_count": 13,
   "metadata": {},
   "outputs": [
    {
     "name": "stdout",
     "output_type": "stream",
     "text": [
      "     CustomerID   Genre  Age  Annual Income (k$)  Spending Score (1-100)\n",
      "0             1    Male   19                  15                      39\n",
      "1             2    Male   21                  15                      81\n",
      "2             3  Female   20                  16                       6\n",
      "3             4  Female   23                  16                      77\n",
      "4             5  Female   31                  17                      40\n",
      "..          ...     ...  ...                 ...                     ...\n",
      "195         196  Female   35                 120                      79\n",
      "196         197  Female   45                 126                      28\n",
      "197         198    Male   32                 126                      74\n",
      "198         199    Male   32                 137                      18\n",
      "199         200    Male   30                 137                      83\n",
      "\n",
      "[200 rows x 5 columns]\n"
     ]
    }
   ],
   "source": [
    "# Replacing with random value for one column\n",
    "df[\"Annual Income (k$)\"].fillna(130, inplace = True)\n",
    "print(df)"
   ]
  },
  {
   "cell_type": "code",
   "execution_count": 14,
   "metadata": {},
   "outputs": [
    {
     "name": "stdout",
     "output_type": "stream",
     "text": [
      "     CustomerID   Genre  Age  Annual Income (k$)  Spending Score (1-100)\n",
      "0             1    Male   19                  15                      39\n",
      "1             2    Male   21                  15                      81\n",
      "2             3  Female   20                  16                       6\n",
      "3             4  Female   23                  16                      77\n",
      "4             5  Female   31                  17                      40\n",
      "..          ...     ...  ...                 ...                     ...\n",
      "195         196  Female   35                 120                      79\n",
      "196         197  Female   45                 126                      28\n",
      "197         198    Male   32                 126                      74\n",
      "198         199    Male   32                 137                      18\n",
      "199         200    Male   30                 137                      83\n",
      "\n",
      "[200 rows x 5 columns]\n"
     ]
    }
   ],
   "source": [
    "# with mean\n",
    "x = df[\"Annual Income (k$)\"].mean()\n",
    "df[\"Annual Income (k$)\"].fillna(x, inplace = True)\n",
    "print(df)"
   ]
  },
  {
   "cell_type": "code",
   "execution_count": 22,
   "metadata": {},
   "outputs": [
    {
     "name": "stdout",
     "output_type": "stream",
     "text": [
      "     CustomerID   Genre  Age  Annual Income (k$)  Spending Score (1-100)\n",
      "0             1    Male   19                  15                      39\n",
      "1             2    Male   21                  15                      81\n",
      "2             3  Female   20                  16                       6\n",
      "3             4  Female   23                  16                      77\n",
      "4             5  Female   31                  17                      40\n",
      "..          ...     ...  ...                 ...                     ...\n",
      "195         196  Female   35                 120                      79\n",
      "196         197  Female   45                 126                      28\n",
      "197         198    Male   32                 126                      74\n",
      "198         199    Male   32                 137                      18\n",
      "199         200    Male   30                 137                      83\n",
      "\n",
      "[200 rows x 5 columns]\n"
     ]
    }
   ],
   "source": [
    "x = df[\"Annual Income (k$)\"].median()\n",
    "df[\"Annual Income (k$)\"].fillna(x, inplace = True)\n",
    "print(df)"
   ]
  },
  {
   "cell_type": "code",
   "execution_count": 15,
   "metadata": {},
   "outputs": [
    {
     "name": "stdout",
     "output_type": "stream",
     "text": [
      "       CustomerID         Age  Annual Income (k$)  Spending Score (1-100)\n",
      "count  200.000000  200.000000          200.000000              200.000000\n",
      "mean   100.500000   38.850000           60.560000               50.200000\n",
      "std     57.879185   13.969007           26.264721               25.823522\n",
      "min      1.000000   18.000000           15.000000                1.000000\n",
      "25%     50.750000   28.750000           41.500000               34.750000\n",
      "50%    100.500000   36.000000           61.500000               50.000000\n",
      "75%    150.250000   49.000000           78.000000               73.000000\n",
      "max    200.000000   70.000000          137.000000               99.000000\n"
     ]
    }
   ],
   "source": [
    "print(df.describe())"
   ]
  },
  {
   "cell_type": "code",
   "execution_count": 18,
   "metadata": {},
   "outputs": [
    {
     "data": {
      "image/png": "[encoded data removed]",
      "text/plain": [
       "<Figure size 640x480 with 1 Axes>"
      ]
     },
     "metadata": {},
     "output_type": "display_data"
    }
   ],
   "source": [
    "import matplotlib.pyplot as plt\n",
    "import numpy as np\n",
    "x = np.array([\"A\", \"B\", \"C\", \"D\"])\n",
    "y = np.array([4, 8, 5, 10])\n",
    "plt.bar(x,y)\n",
    "plt.show()"
   ]
  },
  {
   "cell_type": "code",
   "execution_count": 19,
   "metadata": {},
   "outputs": [
    {
     "data": {
      "image/png": "[encoded data removed]",
      "text/plain": [
       "<Figure size 640x480 with 1 Axes>"
      ]
     },
     "metadata": {},
     "output_type": "display_data"
    }
   ],
   "source": [
    "y = np.array([30, 25, 25, 20])\n",
    "plt.pie(y)\n",
    "plt.show()"
   ]
  },
  {
   "cell_type": "code",
   "execution_count": 20,
   "metadata": {},
   "outputs": [
    {
     "data": {
      "image/png": "[encoded data removed]",
      "text/plain": [
       "<Figure size 640x480 with 1 Axes>"
      ]
     },
     "metadata": {},
     "output_type": "display_data"
    }
   ],
   "source": [
    "x = np.array([5,7,8,7,2,17,2,9,4,11,12,9,6])\n",
    "y = np.array([99,86,87,88,111,86,103,87,94,78,77,85,86])\n",
    "plt.scatter(x, y)\n",
    "plt.show()"
   ]
  },
  {
   "cell_type": "code",
   "execution_count": 21,
   "metadata": {},
   "outputs": [
    {
     "data": {
      "image/png": "[encoded data removed]",
      "text/plain": [
       "<Figure size 640x480 with 1 Axes>"
      ]
     },
     "metadata": {},
     "output_type": "display_data"
    }
   ],
   "source": [
    "x = np.random.normal(180, 10, 250)\n",
    "plt.hist(x)\n",
    "plt.show()"
   ]
  }
 ],
 "metadata": {
  "kernelspec": {
   "display_name": "Python 3",
   "language": "python",
   "name": "python3"
  },
  "language_info": {
   "codemirror_mode": {
    "name": "ipython",
    "version": 3
   },
   "file_extension": ".py",
   "mimetype": "text/x-python",
   "name": "python",
   "nbconvert_exporter": "python",
   "pygments_lexer": "ipython3",
   "version": "3.10.0"
  },
  "orig_nbformat": 4
 },
 "nbformat": 4,
 "nbformat_minor": 2
}
